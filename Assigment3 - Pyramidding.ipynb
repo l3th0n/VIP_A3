{
 "cells": [
  {
   "cell_type": "code",
   "execution_count": 150,
   "metadata": {
    "ExecuteTime": {
     "end_time": "2017-12-27T20:04:53.803419Z",
     "start_time": "2017-12-27T20:04:53.793474Z"
    }
   },
   "outputs": [],
   "source": [
    "import cv2\n",
    "import numpy as np\n",
    "import matplotlib.pyplot as plt\n",
    "\n",
    "img_01 = cv2.imread('tsukuba/scene1.row3.col1.ppm')\n",
    "img_02 = cv2.imread('tsukuba/scene1.row3.col2.ppm')\n",
    "img_03 = cv2.imread('tsukuba/scene1.row3.col3.ppm')\n",
    "img_04 = cv2.imread('tsukuba/scene1.row3.col4.ppm')\n",
    "img_05 = cv2.imread('tsukuba/scene1.row3.col5.ppm')\n",
    "images = [img_01, img_02, img_03, img_04, img_05]"
   ]
  },
  {
   "cell_type": "code",
   "execution_count": 151,
   "metadata": {
    "ExecuteTime": {
     "end_time": "2017-12-27T20:04:54.000966Z",
     "start_time": "2017-12-27T20:04:53.979473Z"
    }
   },
   "outputs": [],
   "source": [
    "# OpenCV's own implementation\n",
    "\n",
    "def gaussian_pyramid_images_cv(img):\n",
    "    p_imgs = [img]\n",
    "    for i in np.arange(3):\n",
    "        img = cv2.pyrDown(img)\n",
    "        p_imgs.append(img)\n",
    "    return p_imgs\n",
    "\n",
    "# Selfimplemented Gaussian Pyramid function.\n",
    "# Convolves with a Gaussian kernel and then removes all even rows and columns.\n",
    "# Output is four images at a higher pyramid level and therefore lower resolution. \n",
    "\n",
    "def gaussian_pyramid_images(img):\n",
    "    p_imgs = [img]\n",
    "    \n",
    "    for i in np.arange(3):\n",
    "        img = cv2.GaussianBlur(img, (5,5), 2)\n",
    "        img_new = []\n",
    "        for i in np.arange(1,img.shape[0],2):\n",
    "            img_row = []\n",
    "            for j in np.arange(1,img.shape[1],2):\n",
    "                img_row.append(img[i][j])\n",
    "            img_new.append(img_row)\n",
    "            \n",
    "        img = np.array(img_new)\n",
    "        p_imgs.append(img)\n",
    "        \n",
    "    return p_imgs\n"
   ]
  },
  {
   "cell_type": "code",
   "execution_count": 152,
   "metadata": {
    "ExecuteTime": {
     "end_time": "2017-12-27T20:04:54.493274Z",
     "start_time": "2017-12-27T20:04:54.483314Z"
    }
   },
   "outputs": [],
   "source": [
    "def plot_images(imgs):\n",
    "    i, j = len(imgs)//2, len(imgs)//2\n",
    "    fig, ax = plt.subplots(i, j, figsize=(15,15))\n",
    "    ii, jj = np.meshgrid(xrange(i), xrange(j), indexing='ij')\n",
    "    axes = [axis for axis in zip(ii.ravel(), jj.ravel())]\n",
    "    for idx, axis in enumerate(axes):\n",
    "        ax[axis].imshow(imgs[idx])\n",
    "        "
   ]
  },
  {
   "cell_type": "code",
   "execution_count": 153,
   "metadata": {
    "ExecuteTime": {
     "end_time": "2017-12-27T20:04:54.849011Z",
     "start_time": "2017-12-27T20:04:54.847110Z"
    }
   },
   "outputs": [],
   "source": [
    "# pyramid_images_img1 = gaussian_pyramid_images(img1)\n",
    "# plot_images(pyramid_images_img1)"
   ]
  },
  {
   "cell_type": "code",
   "execution_count": 154,
   "metadata": {
    "ExecuteTime": {
     "end_time": "2017-12-27T20:04:55.204295Z",
     "start_time": "2017-12-27T20:04:55.202235Z"
    }
   },
   "outputs": [],
   "source": [
    "# pyramid_images_img5 = gaussian_pyramid_images(img5)\n",
    "# plot_images(pyramid_images_img5)"
   ]
  },
  {
   "cell_type": "code",
   "execution_count": 312,
   "metadata": {
    "ExecuteTime": {
     "end_time": "2017-12-28T19:33:37.851564Z",
     "start_time": "2017-12-28T19:33:37.809082Z"
    }
   },
   "outputs": [],
   "source": [
    "\n",
    "def create_patching_kernel(size):\n",
    "    ii, jj = np.meshgrid(np.arange(-(size//2),size//2+1), np.arange(-(size//2),size//2+1), indexing='ij')\n",
    "    return np.array([xy for xy in zip(jj.ravel(), ii.ravel())])\n",
    "\n",
    "def create_image_grid(image):\n",
    "    ii, jj = np.meshgrid(np.arange(image.shape[0]), np.arange(image.shape[1]), indexing='ij')\n",
    "    image_grid = []\n",
    "    for i in np.arange(image.shape[0]):\n",
    "        image_grid.append([ij for ij in zip(ii[i].ravel(), jj[i].ravel())])\n",
    "    return np.array(image_grid)\n",
    "\n",
    "def create_patch_grid(img1, img2, size, M):\n",
    "    index, column = img1.shape[0], img2.shape[1]\n",
    "    patch_grid_coords = create_patching_kernel(size)\n",
    "    final_patch_grid = []\n",
    "    \n",
    "    for i in np.arange(index):\n",
    "        patch_space = [row for row in np.arange(i-(size//2),i+(size//2+1)) if row >= 0 and row <= index-1]\n",
    "        patched_pixel_row = []\n",
    "        for j in np.arange(column):\n",
    "            patch_coords = np.array([np.array([i,j])+ij for ij in patch_grid_coords])\n",
    "            patch_coords_adj = patch_coords[((patch_coords >= 0).all(axis=1)) \\\n",
    "                                            & ((patch_coords < [index,column]).all(axis=1))]\n",
    "            patched_pixel_row.append(patch_coords_adj)\n",
    "        final_patch_grid.append(patched_pixel_row)\n",
    "        \n",
    "    return np.array(final_patch_grid)\n",
    "            "
   ]
  },
  {
   "cell_type": "code",
   "execution_count": 313,
   "metadata": {
    "ExecuteTime": {
     "end_time": "2017-12-28T19:33:38.162390Z",
     "start_time": "2017-12-28T19:33:38.158200Z"
    }
   },
   "outputs": [
    {
     "data": {
      "text/plain": [
       "(288, 384, 3)"
      ]
     },
     "execution_count": 313,
     "metadata": {},
     "output_type": "execute_result"
    }
   ],
   "source": [
    "img_01.shape"
   ]
  },
  {
   "cell_type": "code",
   "execution_count": 314,
   "metadata": {
    "ExecuteTime": {
     "end_time": "2017-12-28T19:33:44.679991Z",
     "start_time": "2017-12-28T19:33:38.508633Z"
    }
   },
   "outputs": [
    {
     "data": {
      "text/plain": [
       "(288, 384)"
      ]
     },
     "execution_count": 314,
     "metadata": {},
     "output_type": "execute_result"
    }
   ],
   "source": [
    "patch_grid = create_patch_grid(img_01, img_02, 5, 5)\n",
    "patch_grid.shape"
   ]
  },
  {
   "cell_type": "code",
   "execution_count": 308,
   "metadata": {
    "ExecuteTime": {
     "end_time": "2017-12-28T19:28:34.759876Z",
     "start_time": "2017-12-28T19:28:34.757025Z"
    }
   },
   "outputs": [],
   "source": [
    "def match_search_horizontially(img1, img2, patch_grid, M):\n",
    "    index, column = img1.shape[0], img1.shape[1]\n",
    "    \n",
    "    for i in np.arange(index):\n",
    "        for j in np.arange(column):\n",
    "            M_space = patch_grid[i,j-M:j+M]"
   ]
  },
  {
   "cell_type": "code",
   "execution_count": null,
   "metadata": {},
   "outputs": [],
   "source": []
  }
 ],
 "metadata": {
  "hide_input": false,
  "kernelspec": {
   "display_name": "Python 3",
   "language": "python",
   "name": "python3"
  },
  "language_info": {
   "codemirror_mode": {
    "name": "ipython",
    "version": 3
   },
   "file_extension": ".py",
   "mimetype": "text/x-python",
   "name": "python",
   "nbconvert_exporter": "python",
   "pygments_lexer": "ipython3",
   "version": "3.6.4"
  }
 },
 "nbformat": 4,
 "nbformat_minor": 2
}
