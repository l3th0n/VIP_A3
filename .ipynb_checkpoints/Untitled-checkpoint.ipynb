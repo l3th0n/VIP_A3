{
 "cells": [
  {
   "cell_type": "code",
   "execution_count": 3,
   "metadata": {
    "collapsed": true
   },
   "outputs": [],
   "source": [
    "import cv2\n",
    "import numpy as np\n",
    "import matplotlib.pyplot as plt\n",
    "import ps_utils as ps\n",
    "\n",
    "\n",
    "(I, mask, S) = ps.read_data_file(\"Beethoven.mat\")\n",
    "imgs_be = [I[:,:,i] for i in range(3)]\n",
    "# print(I.shape, mask.shape, S.shape)\n",
    "\n",
    "# (I, mask, S) = ps.read_data_file(\"Buddha.mat\")\n",
    "# imgs_bu = [I[:,:,i] for i in range(10)]\n",
    "# print(I.shape, mask.shape, S.shape)\n",
    "\n",
    "# Plot images function - plot_images(imgs, x, y, figsize)\n",
    "# Call example - plot_images([img1, img2, img3], 3, 1, (30, 30))"
   ]
  },
  {
   "cell_type": "code",
   "execution_count": 4,
   "metadata": {
    "collapsed": true
   },
   "outputs": [],
   "source": [
    "\n",
    "def plot_images(imgs_input, i, j, figsize=(15,15)):\n",
    "    imgs = imgs_input[:]\n",
    "    ax = [[\"ax\"+str(ii)+str(jj) for jj in range(j)] for ii in range(i)] \n",
    "    # [[ax1, ax2, ax3], [ax4, ax5, ax6]] Fx. with y = 2, x = 3\n",
    "    fig, ax = plt.subplots(i, j, figsize=figsize)\n",
    "    ax = np.array(ax).flatten()\n",
    "    if not len(ax) == len(imgs): print('Not matching dimensions! \\nNumber of images: '+str(len(imgs))+\\\n",
    "                                       '\\nNumber of plots: '+str(len(ax))) \n",
    "    for axis in ax:\n",
    "        axis.imshow(imgs.pop(0), \"gray\")\n",
    "    plt.show()\n",
    "    \n",
    "def plot_image(img, figsize=(20,20)):\n",
    "    plt.imshow(img)\n",
    "    plt.rcParams[\"figure.figsize\"] = figsize\n",
    "    plt.show()\n",
    "    "
   ]
  },
  {
   "cell_type": "code",
   "execution_count": 38,
   "metadata": {},
   "outputs": [
    {
     "ename": "IndentationError",
     "evalue": "expected an indented block (<ipython-input-38-acd43cca5334>, line 12)",
     "output_type": "error",
     "traceback": [
      "\u001b[0;36m  File \u001b[0;32m\"<ipython-input-38-acd43cca5334>\"\u001b[0;36m, line \u001b[0;32m12\u001b[0m\n\u001b[0;31m    imgs_and_mask = np.vstack(img)\u001b[0m\n\u001b[0m                ^\u001b[0m\n\u001b[0;31mIndentationError\u001b[0m\u001b[0;31m:\u001b[0m expected an indented block\n"
     ]
    }
   ],
   "source": [
    "    \n",
    "\n",
    "i_s, j_s = np.where(mask == 1)\n",
    "resized_mask = mask[min(i_s):max(i_s), min(j_s):max(j_s)]\n",
    "resized_images = np.array([img[min(i_s):max(i_s), min(j_s):max(j_s)] for img in imgs_be])\n",
    "\n",
    "# for img in resized_images:\n",
    "#     print(resized_mask)\n",
    "# imgs_and_mask = np.concatenate((resized_images, resized_mask), axis=0)\n",
    "\n",
    "for img in resized_images:\n",
    "    imgs_and_mask = np.vstack(img)\n",
    "\n",
    "#imgs_and_mask = np.append(resized_images, resized_mask) = resized_images.append(resized_mask)\n",
    "print(imgs_and_mask.shape)\n",
    "#plot_images([fig for fig in imgs_and_mask], 2, 2)\n",
    "\n",
    "#d_map = ps.unbiased_integrate(imgs_and_mask[0], imgs_and_mask[1], imgs_and_mask[2], imgs_and_mask[3])\n",
    "\n",
    "#print(d_map)\n",
    "# d_map = ps.simchony_integrate(imgs_be[0], imgs_be[1], imgs_be[2], mask)\n",
    "# test = np.where(d_map == np.nan)\n",
    "# print(test.shape)\n",
    "#ps.display_depth(d_map)"
   ]
  },
  {
   "cell_type": "code",
   "execution_count": null,
   "metadata": {
    "collapsed": true
   },
   "outputs": [],
   "source": []
  },
  {
   "cell_type": "code",
   "execution_count": null,
   "metadata": {
    "collapsed": true
   },
   "outputs": [],
   "source": []
  }
 ],
 "metadata": {
  "kernelspec": {
   "display_name": "Python 3",
   "language": "python",
   "name": "python3"
  },
  "language_info": {
   "codemirror_mode": {
    "name": "ipython",
    "version": 3
   },
   "file_extension": ".py",
   "mimetype": "text/x-python",
   "name": "python",
   "nbconvert_exporter": "python",
   "pygments_lexer": "ipython3",
   "version": "3.6.3"
  }
 },
 "nbformat": 4,
 "nbformat_minor": 2
}
