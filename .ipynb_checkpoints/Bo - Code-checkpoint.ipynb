{
 "cells": [
  {
   "cell_type": "code",
   "execution_count": 10,
   "metadata": {},
   "outputs": [
    {
     "name": "stdout",
     "output_type": "stream",
     "text": [
      "(433, 650, 10) (433, 650) (10, 3)\n"
     ]
    }
   ],
   "source": [
    "import cv2\n",
    "import numpy as np\n",
    "import matplotlib.pyplot as plt\n",
    "import ps_utils as ps\n",
    "\n",
    "\n",
    "(I, mask, S) = ps.read_data_file(\"Beethoven.mat\")\n",
    "imgs_be = [I[:,:,i] for i in range(3)]\n",
    "# print(I.shape, mask.shape, S.shape)\n",
    "\n",
    "(I, mask, S) = ps.read_data_file(\"Buddha.mat\")\n",
    "imgs_bu = [I[:,:,i] for i in range(10)]\n",
    "print(I.shape, mask.shape, S.shape)"
   ]
  },
  {
   "cell_type": "code",
   "execution_count": 2,
   "metadata": {},
   "outputs": [],
   "source": []
  },
  {
   "cell_type": "code",
   "execution_count": 61,
   "metadata": {},
   "outputs": [],
   "source": [
    "# Plot images function - plot_images(imgs, x, y, figsize)\n",
    "# Call example - plot_images([img1, img2, img3], 3, 1, (30, 30))\n",
    "\n",
    "def plot_images(imgs_input, i, j, figsize=(15,15)):\n",
    "    imgs = imgs_input[:]\n",
    "    ax = [[\"ax\"+str(ii)+str(jj) for jj in range(j)] for ii in range(i)] \n",
    "    # [[ax1, ax2, ax3], [ax4, ax5, ax6]] Fx. with y = 2, x = 3\n",
    "    fig, ax = plt.subplots(i, j, figsize=figsize)\n",
    "    ax = np.array(ax).flatten()\n",
    "    if not len(ax) == len(imgs): print('Not matching dimensions! \\nNumber of images: '+str(len(imgs))+\\\n",
    "                                       '\\nNumber of plots: '+str(len(ax))) \n",
    "    for axis in ax:\n",
    "        axis.imshow(imgs.pop(0), \"gray\")\n",
    "    plt.show()"
   ]
  },
  {
   "cell_type": "code",
   "execution_count": 66,
   "metadata": {},
   "outputs": [],
   "source": [
    "# plot_images(imgs_be, 1, 3, (30,30))"
   ]
  },
  {
   "cell_type": "code",
   "execution_count": 68,
   "metadata": {},
   "outputs": [],
   "source": [
    "# plot_images(imgs_bu, 5, 2, (30,30))"
   ]
  },
  {
   "cell_type": "markdown",
   "metadata": {},
   "source": [
    "nz = non-zero pixels\n"
   ]
  }
 ],
 "metadata": {
  "kernelspec": {
   "display_name": "Python 3",
   "language": "python",
   "name": "python3"
  },
  "language_info": {
   "codemirror_mode": {
    "name": "ipython",
    "version": 3
   },
   "file_extension": ".py",
   "mimetype": "text/x-python",
   "name": "python",
   "nbconvert_exporter": "python",
   "pygments_lexer": "ipython3",
   "version": "3.6.4"
  }
 },
 "nbformat": 4,
 "nbformat_minor": 2
}
